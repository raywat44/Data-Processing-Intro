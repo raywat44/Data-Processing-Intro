{
  "nbformat": 4,
  "nbformat_minor": 0,
  "metadata": {
    "colab": {
      "provenance": [],
      "toc_visible": true,
      "authorship_tag": "ABX9TyNXUcdeQ/o7YTAAjk2i701T",
      "include_colab_link": true
    },
    "kernelspec": {
      "name": "python3",
      "display_name": "Python 3"
    },
    "language_info": {
      "name": "python"
    }
  },
  "cells": [
    {
      "cell_type": "markdown",
      "metadata": {
        "id": "view-in-github",
        "colab_type": "text"
      },
      "source": [
        "<a href=\"https://colab.research.google.com/github/raywat44/Data-Processing-Intro/blob/main/Data_Processing_in_Python.ipynb\" target=\"_parent\"><img src=\"https://colab.research.google.com/assets/colab-badge.svg\" alt=\"Open In Colab\"/></a>"
      ]
    },
    {
      "cell_type": "markdown",
      "source": [
        "# Intro to Data Processing in Python\n"
      ],
      "metadata": {
        "id": "lVVnxdsbP2C1"
      }
    },
    {
      "cell_type": "markdown",
      "source": [
        "Python is commonly used for data analytics due to its simplistic and human-like approach to programming. There are many modules that support data processing as a well as data visualization.\n",
        "\n",
        "We are going to start the minimum concepts needed to process data."
      ],
      "metadata": {
        "id": "u4IgCON5QEB_"
      }
    },
    {
      "cell_type": "markdown",
      "source": [
        "# CSV File Format"
      ],
      "metadata": {
        "id": "PTgo2nE4Qjqd"
      }
    },
    {
      "cell_type": "markdown",
      "source": [
        "CSV, or comma-separated value files, are an easy place to start processing tons of data.\n",
        "\n",
        "CSVs are essentially tables, but as the name implies, they are formatted so that every cell is separated by a comma by our computers.\n",
        "\n",
        "If we opened a CSV file in *Excel*, it would look something like this:\n",
        "<table>\n",
        "  <tr>\n",
        "    <th>Name</th>\n",
        "    <th>Fav. Color</th>\n",
        "    <th>Fav. Animal</th>\n",
        "    <th>Fav. Food</th>\n",
        "  </tr>\n",
        "  <tr>\n",
        "    <th>Kyle</th>\n",
        "    <th>Red</th>\n",
        "    <th>Cat</th>\n",
        "    <th>Pizza</th>\n",
        "  </tr>\n",
        "  <tr>\n",
        "    <th>Suzan</th>\n",
        "    <th>Green</th>\n",
        "    <th>Zebra</th>\n",
        "    <th>Salad</th>\n",
        "  </tr>\n",
        "</table>\n",
        "</br>\n",
        "\n",
        "However if we opened the **same file** in *Notepad* or a text editor, it would look something like this:\n",
        "\n",
        "```\n",
        "Name,Fav. Color,Fav. Animal,Fav. Food\n",
        "Kyle,Red,Cat,Pizza\n",
        "Suzan,Green,Zebra,Salad\n",
        "```\n",
        "\n",
        "\n",
        "\n"
      ],
      "metadata": {
        "id": "SPKFMxAdQpaW"
      }
    },
    {
      "cell_type": "markdown",
      "source": [
        "# String `split()`\n",
        "\n",
        "Let's pretend we have a String with a whole bunch of words. If we wanted direct access to each word we could \"split\" the String into a **list of smaller Strings**."
      ],
      "metadata": {
        "id": "p9Dqd3zuUQpI"
      }
    },
    {
      "cell_type": "code",
      "execution_count": null,
      "metadata": {
        "id": "87vA0dMUPlTJ"
      },
      "outputs": [],
      "source": [
        "myString = \"Here is a very well thought out sentence.\"\n",
        "\n",
        "#By default, it is split by spaces, but we can specify in quotes how to split the values\n",
        "print(myString.split(\" \"))\n",
        "\n",
        "\"\"\"Predict The results if we wanted to use every 'e' to separate the data into a list\"\"\"\n",
        "#print(myString.split(\"e\")) "
      ]
    },
    {
      "cell_type": "markdown",
      "source": [
        "Think about how this command could be of use to us when handling CSV files.\n",
        "\n",
        "Use the example below to apply the split command to the CSV file format."
      ],
      "metadata": {
        "id": "KWuEtQz4YIXO"
      }
    },
    {
      "cell_type": "code",
      "source": [
        "#Assume we have grabbed this information from a CSV file\n",
        "categories = \"Name,Fav. Color,Fav. Animal,Fav. Food\"\n",
        "data1 = \"Kyle,Red,Cat,Pizza\"\n",
        "\n",
        "myList = []\n",
        "\n",
        "\"\"\" \n",
        "    Break up data1 into a list of it's individual components and save it to myList\n",
        "        **Think about HOW you want to break up the String.\n",
        "\"\"\"\n",
        "\n"
      ],
      "metadata": {
        "id": "R6mZglb5YVrW"
      },
      "execution_count": null,
      "outputs": []
    },
    {
      "cell_type": "markdown",
      "source": [
        "# File Input Setup\n",
        "\n",
        "Let's actually read information from a file.\n",
        "\n",
        "Python has an open command that takes in the file name you wish to view/edit and what action you want to do with the file:\n",
        "\n",
        "<table>\n",
        "  <tr>\n",
        "    <th>Basic File Actions</th>\n",
        "  </tr>\n",
        "  <tr>\n",
        "    <th>\"r\"</th>\n",
        "    <th>Reading from a file</th>\n",
        "  </tr>\n",
        "  <tr>\n",
        "    <th>\"w\"</th>\n",
        "    <th>Writing to a file (overwrites existing data)</th>\n",
        "  </tr>\n",
        "  <tr>\n",
        "    <th>\"a\"</th>\n",
        "    <th>Add to the end</th>\n",
        "  </tr>\n",
        "</table>\n",
        "\n",
        "Let's start reading from a file."
      ],
      "metadata": {
        "id": "VGY5JAo6dxRe"
      }
    },
    {
      "cell_type": "code",
      "source": [
        "#Letting Python know we want to read from a file named sampleData.csv\n",
        "f = open(\"sampleData.csv\", \"r\")  \n",
        "    # -> file data is stored in the f variable\n",
        "\n",
        "#We can use readline() to read a line of data from the file as a String\n",
        "print( f.readline() )\n",
        "\n",
        "\"\"\" Run this to see the first line of data in the file \"\"\""
      ],
      "metadata": {
        "id": "hc4RIGAceAu0"
      },
      "execution_count": null,
      "outputs": []
    },
    {
      "cell_type": "markdown",
      "source": [
        "*Keep in mind that `readline()` always grabs the **next line** in the file and that we can't move backwards! Be sure to process information as you see it.*\n"
      ],
      "metadata": {
        "id": "t4snx0WGh-2A"
      }
    },
    {
      "cell_type": "markdown",
      "source": [
        "# Processing Data in a File\n",
        "\n",
        "For a CSV file, the first line of data should be the different categories or column headers. \n",
        "\n",
        "Let's see how we would access ALL the data in the file using `readline()`."
      ],
      "metadata": {
        "id": "kdd4McMolew_"
      }
    },
    {
      "cell_type": "code",
      "source": [
        "f = open(\"sampleData.csv\", \"r\")\n",
        "\n",
        "categories = f.readline()\n",
        "\n",
        "\"\"\" Write the code that would print just the first 5 lines of data \"\"\"\n",
        "\n",
        "\n",
        "#   If we wanted to read and process each line of data, but we don't know\n",
        "#   how many lines there are, we can use a while loop:\n",
        "\n",
        "x = 1\n",
        "line = f.readline()\n",
        "while (line): #When f.readline() grabs nothing, the loop stops\n",
        "  \n",
        "  # This is where we process the data in each line\n",
        "  print(\"Line\",x,\": \", line)\n",
        "\n",
        "  # Make sure you grab the next line and prepare for the next iteration/loop\n",
        "  line = f.readline()\n",
        "  x+=1"
      ],
      "metadata": {
        "id": "JSY79cQ7igxb"
      },
      "execution_count": null,
      "outputs": []
    },
    {
      "cell_type": "markdown",
      "source": [
        "# Tuples\n",
        "\n",
        "Python actually has another type of list called a tuple. Tuples are lists that are immutable, or can't be changed.\n",
        "\n",
        "One benefit is that their immutability allows them to be notably smaller than normal lists. They are also normally used we need a group of items of various data types -> `(\"My Name\", 7, True)`\n",
        "\n",
        "**We access values like a normal list**, but creating a tuple uses `()` instead of `[]`"
      ],
      "metadata": {
        "id": "tNmGd1JIozxo"
      }
    },
    {
      "cell_type": "code",
      "source": [
        "# 2 Ways to create an empty tuple\n",
        "tuple1 = tuple() # -> Using tuple keyword\n",
        "tuple2 = ()\n",
        "\n",
        "# Creating a tuple WITH information\n",
        "tuple3 = (\"Mary\", False, 77)\n",
        "myName = \"Harry\"\n",
        "myAge = 43\n",
        "tuple4 = tuple( (myName,myAge) ) # -> Tuple contains the DATA held in the variables\n",
        "\n",
        "#We can print the whole tuple\n",
        "print(tuple3)\n",
        "\n",
        "\"\"\" Print out the first element of tuple4 (just like a list) \"\"\"\n",
        "\n"
      ],
      "metadata": {
        "id": "OI9yDEFhpSLd"
      },
      "execution_count": null,
      "outputs": []
    }
  ]
}